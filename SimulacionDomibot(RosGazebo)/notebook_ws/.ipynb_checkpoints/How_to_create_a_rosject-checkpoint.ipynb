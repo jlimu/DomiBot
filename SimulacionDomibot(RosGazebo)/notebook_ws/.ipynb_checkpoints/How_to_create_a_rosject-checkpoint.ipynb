{
 "cells": [
  {
   "cell_type": "markdown",
   "metadata": {},
   "source": [
    "![](images/logos/TClogo.png)"
   ]
  },
  {
   "cell_type": "markdown",
   "metadata": {},
   "source": [
    "# PRESENTS"
   ]
  },
  {
   "cell_type": "markdown",
   "metadata": {},
   "source": [
    "# ROS Developers Live Class n74\n"
   ]
  },
  {
   "cell_type": "markdown",
   "metadata": {},
   "source": [
    "![](images/logos/Live_Class_74.jpg)"
   ]
  },
  {
   "cell_type": "markdown",
   "metadata": {},
   "source": [
    "## How to create a Rosject"
   ]
  },
  {
   "cell_type": "markdown",
   "metadata": {},
   "source": [
    "In this class, you will learn how to create a ROSject and all the parts that compose it.\n",
    "The ROSject allows you to create full ROS projects without mixing all its elements: ROS code, Gazebo simulation, documentation, datasets.\n",
    "\n",
    "You will learn how to organise all that material into a single ROS project (a ROSject), and how to share it with your colleagues, students or teachers, so they can reproduce your results.\n",
    "\n",
    "\n",
    "## What is a ROSject? \n",
    "\n",
    "Here at the ROS Development Studio, ROSjects are the way we create our ROS projects in an orderly manner. Establishing a separate order between  **simulations, ROS code, datasets, and documentation** is very important when reviewing, sharing or even debugging a project.\n",
    "\n",
    "The ability to work in a simple and orderly way and all the benefits that ROS offers us in its different branches allows us to better understand and optimize projects in various fields of robotics, such as mobile, industrial robotics, etc. And in turn, work in different fields, such as artificial intelligence, navigation, etc."
   ]
  },
  {
   "cell_type": "markdown",
   "metadata": {},
   "source": [
    "If you are interested in becoming a **Robotics Developer** you will need to know how to represent the robot structure in the proper way so you can program it with ROS.\n",
    "\n",
    "(To know more about becoming a robotics developer, read this guide about <a href=\"http://www.theconstructsim.com/become-robotics-developer/\">How To Become a Robotics Developer</a>)"
   ]
  },
  {
   "cell_type": "markdown",
   "metadata": {},
   "source": [
    "This rosject has been created by **Christian Chavez** and **Ricardo Tellez** from **The Construct**. You can use this rosject freely as long as you keep this notice."
   ]
  },
  {
   "cell_type": "markdown",
   "metadata": {},
   "source": [
    "**REQUIREMENTS** :\n",
    "- **Basics of Linux**. If you don't have that knowledge, [check this FREE online course](https://www.robotigniteacademy.com/en/course/linux-robotics/details/)\n",
    "![](images/logos/Linux.png)\n",
    "\n",
    "\n",
    "- **Ros Basics**. If you don't have that knowledge, [check this online course](https://www.robotigniteacademy.com/en/course/ros-in-5-days/details/)\n",
    "![](images/logos/basics.png)\n",
    "\n",
    "\n",
    "- **Love for Robotics and patience**\n",
    "\n",
    "- ... That's it! Let's go!"
   ]
  },
  {
   "cell_type": "markdown",
   "metadata": {},
   "source": [
    "In this class, we'll learn: \n",
    "\n",
    " - How  to create a rosject.\n"
   ]
  },
  {
   "cell_type": "markdown",
   "metadata": {},
   "source": [
    "## Robot for today's Live Class"
   ]
  },
  {
   "cell_type": "markdown",
   "metadata": {},
   "source": [
    "Today you're going to use the Panda, from FRANKA EMIKA."
   ]
  },
  {
   "cell_type": "markdown",
   "metadata": {},
   "source": [
    "![](images/rosject_images/panda-in-gazebo.png)"
   ]
  },
  {
   "cell_type": "markdown",
   "metadata": {},
   "source": [
    "## How to create a ROSject"
   ]
  },
  {
   "cell_type": "markdown",
   "metadata": {},
   "source": [
    "Let's see all the steps required to create your own rosject"
   ]
  },
  {
   "cell_type": "markdown",
   "metadata": {},
   "source": [
    "### 1. Create an empty ROSject"
   ]
  },
  {
   "cell_type": "markdown",
   "metadata": {},
   "source": [
    "First we are going to create an empty ROSject that will contain all our code, simulations, documentations and datasets"
   ]
  },
  {
   "cell_type": "markdown",
   "metadata": {},
   "source": [
    "When you go to our **ROS Development Studio** you will find a menu in the left side of the window similar to the next image. You have to click in the button that said **+ New ROSject**"
   ]
  },
  {
   "cell_type": "markdown",
   "metadata": {},
   "source": [
    "![](images/rosject_images/new_rosject.png)"
   ]
  },
  {
   "cell_type": "markdown",
   "metadata": {},
   "source": [
    "Once you have clicked, you have to fill the necessary data in order to create a new rosject."
   ]
  },
  {
   "cell_type": "markdown",
   "metadata": {},
   "source": [
    "![](images/rosject_images/create.png)"
   ]
  },
  {
   "cell_type": "markdown",
   "metadata": {},
   "source": [
    "Here you will have the name of your new ROSject, an image that will have your rosject, the ROS Configuration,\n",
    "some configurations already established for certain robots that you could use them, if you want to create a public or private rosject, and a description of your rosject. Once you have already fill all the data you will have something similar to this."
   ]
  },
  {
   "cell_type": "markdown",
   "metadata": {},
   "source": [
    "In order to make the rosject easier to identify, assign to it an image. For that, I usually go to Google Images and download one. Let's do it!\n",
    "\n",
    "![Image obtained from IF World Design Guide](images/franka.jpg)Image obtained from IF World Design Guide"
   ]
  },
  {
   "cell_type": "markdown",
   "metadata": {},
   "source": [
    "![](images/rosject_images/create2.png)"
   ]
  },
  {
   "cell_type": "markdown",
   "metadata": {},
   "source": [
    "To the right of the window you will have some view of the notebook or documentation of your ROSject, as it's new you will have something similar to the previous image . Then to the left you will have more options. You can choose the hardware that you will use, some rosjects requires powerful cpu, you can use them for a very fair price, but most of the rosjects needs only the basic cpu. "
   ]
  },
  {
   "cell_type": "markdown",
   "metadata": {},
   "source": [
    "Then here you can open the ROSject or maybe Share it, edit, remove, etc."
   ]
  },
  {
   "cell_type": "markdown",
   "metadata": {},
   "source": [
    "### 1b. Opening the empty ROSject"
   ]
  },
  {
   "cell_type": "markdown",
   "metadata": {},
   "source": [
    "Now open the ROSject."
   ]
  },
  {
   "cell_type": "markdown",
   "metadata": {},
   "source": [
    "![](images/rosject_images/create3.png)"
   ]
  },
  {
   "cell_type": "markdown",
   "metadata": {},
   "source": [
    "Now the ROSject is opening, wait a moment, this will load soon."
   ]
  },
  {
   "cell_type": "markdown",
   "metadata": {},
   "source": [
    "Now you sould have something like the next image."
   ]
  },
  {
   "cell_type": "markdown",
   "metadata": {},
   "source": [
    "![](images/rosject_images/create4.png)"
   ]
  },
  {
   "cell_type": "markdown",
   "metadata": {},
   "source": [
    "Where you have alredy opened the jupyter notebook, where you will write all the documentation of your ROSject.\n",
    "\n",
    "We are going to see later how to create the documentation."
   ]
  },
  {
   "cell_type": "markdown",
   "metadata": {},
   "source": [
    " But let's see the workspaces that we have.\n",
    "Go to the **Tools** menu at the top of the windows and select IDE."
   ]
  },
  {
   "cell_type": "markdown",
   "metadata": {},
   "source": [
    "![](images/useful_images/IDE.png)"
   ]
  },
  {
   "cell_type": "markdown",
   "metadata": {},
   "source": [
    "As you can see you have five workspace:\n",
    "\n",
    " - ai_ws\n",
    " - catkin_ws\n",
    " - datasets_ws\n",
    " - notebook_ws\n",
    " - simulation_ws\n",
    " \n",
    " \n",
    " ### ai_ws\n",
    " \n",
    "The *ai_ws* is used for all related to artificial inteligence, we know that artificial inteligent could manage large amounts of information for proper processing, that's why we recommend to manage all of this in a dedicated workspace.\n",
    " \n",
    " ### catkin_ws\n",
    "The *catkin_ws* is the most common use in ROS, this workspace is used for all the scripts that is not use in other workspaces, move_groups, artificial vision, mapping, exploring, etc. **This time, in order not to spend much time, we won't use this workspace.**\n",
    "\n",
    "### datasets_ws\n",
    "The *datasets_ws* is used only as its name says, \n",
    "store and manage datasets, here is where we gonna make datasets of the info we need, as rosbag for example, here we can store images, or just data of a sensor or a topic.\n",
    "\n",
    "### notebook_ws\n",
    "\n",
    "The *notebook_ws* as we mentioned before is to keep all the information of the documentation, images and notebooks that the jupyter notebook will use.\n",
    "\n",
    "### simulation_ws\n",
    "The *simulation_ws* is the second most common workspace used. This workspace is used to keep all the configuration needed in order to create a simulation of a robot, as the robot description, control, launches files of gazebo, rviz, etc.\n",
    " "
   ]
  },
  {
   "cell_type": "markdown",
   "metadata": {},
   "source": [
    "## 2. Adding the simulation code"
   ]
  },
  {
   "cell_type": "markdown",
   "metadata": {},
   "source": [
    "Well in order to prepare the simulation, go to the **Shell** inside the **Tools** menu and open it. "
   ]
  },
  {
   "cell_type": "markdown",
   "metadata": {},
   "source": [
    "![](images/useful_images/Shell.png)"
   ]
  },
  {
   "cell_type": "markdown",
   "metadata": {},
   "source": [
    "Here run the following command in order to go inside the **simulation_ws/src**"
   ]
  },
  {
   "cell_type": "code",
   "execution_count": null,
   "metadata": {},
   "outputs": [],
   "source": [
    "$ cd /home/user/simulation_ws/src"
   ]
  },
  {
   "cell_type": "markdown",
   "metadata": {},
   "source": [
    "Here we will follow the instructions of the git made by **Erdal Pekel** https://github.com/erdalpekel/panda_simulation, This will bring us the simulation of the PANDA from FRANKA EMIKA"
   ]
  },
  {
   "cell_type": "markdown",
   "metadata": {},
   "source": [
    "Run the followings commands in a Shell to get the code of the simulation:"
   ]
  },
  {
   "cell_type": "code",
   "execution_count": null,
   "metadata": {},
   "outputs": [],
   "source": [
    "$ git clone https://github.com/erdalpekel/panda_simulation.git"
   ]
  },
  {
   "cell_type": "markdown",
   "metadata": {},
   "source": [
    "## 3. Adding the ROS code"
   ]
  },
  {
   "cell_type": "markdown",
   "metadata": {},
   "source": [
    "Then, on the `catkin_ws` you have to include the code that would run in the robot:"
   ]
  },
  {
   "cell_type": "code",
   "execution_count": null,
   "metadata": {},
   "outputs": [],
   "source": [
    "$ cd /home/user/catkin_ws/src"
   ]
  },
  {
   "cell_type": "code",
   "execution_count": null,
   "metadata": {},
   "outputs": [],
   "source": [
    "$ git clone https://github.com/erdalpekel/panda_moveit_config.git"
   ]
  },
  {
   "cell_type": "code",
   "execution_count": null,
   "metadata": {},
   "outputs": [],
   "source": [
    "$ git clone --branch simulation https://github.com/erdalpekel/franka_ros.git"
   ]
  },
  {
   "cell_type": "markdown",
   "metadata": {},
   "source": [
    "Compiling the code requires some packages to be installed in the system. They have been already installed in the ROSDS for other projects, so we don't need to install them here. "
   ]
  },
  {
   "cell_type": "markdown",
   "metadata": {},
   "source": [
    "Now, let's compile the robot code:"
   ]
  },
  {
   "cell_type": "code",
   "execution_count": null,
   "metadata": {},
   "outputs": [],
   "source": [
    "$ cd .."
   ]
  },
  {
   "cell_type": "code",
   "execution_count": null,
   "metadata": {},
   "outputs": [],
   "source": [
    "$ catkin_make -j4 -DCMAKE_BUILD_TYPE=Release"
   ]
  },
  {
   "cell_type": "code",
   "execution_count": null,
   "metadata": {},
   "outputs": [],
   "source": [
    "$ source devel/setup.bash"
   ]
  },
  {
   "cell_type": "markdown",
   "metadata": {},
   "source": [
    "Then let's compile the simulation. We need to follow that specific orther because the `simulation` depends on the code of the `robot`."
   ]
  },
  {
   "cell_type": "code",
   "execution_count": null,
   "metadata": {},
   "outputs": [],
   "source": [
    "$ cd /home/user/simulation_ws\n",
    "$ catkin_make\n",
    "$ source devel/setup.bash"
   ]
  },
  {
   "cell_type": "markdown",
   "metadata": {},
   "source": [
    "### 3b. launch the simulation "
   ]
  },
  {
   "cell_type": "markdown",
   "metadata": {},
   "source": [
    "Great! Now it's time to see our simulation. Go to the **Simulations** menu at the top of the window."
   ]
  },
  {
   "cell_type": "markdown",
   "metadata": {},
   "source": [
    "![](images/useful_images/simulations_menu.png)"
   ]
  },
  {
   "cell_type": "markdown",
   "metadata": {},
   "source": [
    "Then select Choose launh file.. and select **panda_simulation** **simulation.launch**"
   ]
  },
  {
   "cell_type": "markdown",
   "metadata": {},
   "source": [
    "![](images/rosject_images/sim.png)"
   ]
  },
  {
   "cell_type": "markdown",
   "metadata": {},
   "source": [
    "You will see the simulation running like the following image."
   ]
  },
  {
   "cell_type": "markdown",
   "metadata": {},
   "source": [
    "![](images/rosject_images/sim2.png)"
   ]
  },
  {
   "cell_type": "markdown",
   "metadata": {},
   "source": [
    "Now see how the simulation is integrated with **RVIZ and MOVEIT** in order to move the robot!"
   ]
  },
  {
   "cell_type": "markdown",
   "metadata": {},
   "source": [
    "In the Shell run the next command."
   ]
  },
  {
   "cell_type": "code",
   "execution_count": null,
   "metadata": {},
   "outputs": [],
   "source": [
    "$ rviz"
   ]
  },
  {
   "cell_type": "markdown",
   "metadata": {},
   "source": [
    "After that, go to **Tools** menu and open the **Graphical ToolS**"
   ]
  },
  {
   "cell_type": "markdown",
   "metadata": {},
   "source": [
    "![](images/rosject_images/sim3.png)"
   ]
  },
  {
   "cell_type": "markdown",
   "metadata": {},
   "source": [
    "In the rviz change the **fixed frame** map to **world**, as the previous image, then Add a **MotionPlanning**"
   ]
  },
  {
   "cell_type": "markdown",
   "metadata": {},
   "source": [
    "![](images/rosject_images/sim4.png)"
   ]
  },
  {
   "cell_type": "markdown",
   "metadata": {},
   "source": [
    "In order to configure the **MotionPlanning** open it "
   ]
  },
  {
   "cell_type": "markdown",
   "metadata": {},
   "source": [
    "![](images/rosject_images/sim5.png)"
   ]
  },
  {
   "cell_type": "markdown",
   "metadata": {},
   "source": [
    "And go to **Planning Request** and change the **Planning group** hand to **panda_arm**"
   ]
  },
  {
   "cell_type": "markdown",
   "metadata": {},
   "source": [
    "![](images/rosject_images/sim6.png)"
   ]
  },
  {
   "cell_type": "markdown",
   "metadata": {},
   "source": [
    "Now go to the **Planning** section, move the arm to a position you like and click on the **plan and execute** button. "
   ]
  },
  {
   "cell_type": "markdown",
   "metadata": {},
   "source": [
    "![](images/rosject_images/sim7.png)"
   ]
  },
  {
   "cell_type": "markdown",
   "metadata": {},
   "source": [
    "You will see how the simulation moves too."
   ]
  },
  {
   "cell_type": "markdown",
   "metadata": {},
   "source": [
    "![](images/rosject_images/sim8.png)"
   ]
  },
  {
   "cell_type": "markdown",
   "metadata": {},
   "source": [
    "## 4. How to create a dataset"
   ]
  },
  {
   "cell_type": "markdown",
   "metadata": {},
   "source": [
    "Now let's see how to create a Dataset"
   ]
  },
  {
   "cell_type": "markdown",
   "metadata": {},
   "source": [
    "go to the **Datasets** menu at the top of the window and select **create**"
   ]
  },
  {
   "cell_type": "markdown",
   "metadata": {},
   "source": [
    "![](images/useful_images/dataset.png)"
   ]
  },
  {
   "cell_type": "markdown",
   "metadata": {},
   "source": [
    "Fill all the data in order to create your dataset, the name of the dataset, the folder that will contain this dataset, some description , and select if you want that your dataset will be public or not"
   ]
  },
  {
   "cell_type": "markdown",
   "metadata": {},
   "source": [
    "![](images/useful_images/dataset2.png)"
   ]
  },
  {
   "cell_type": "markdown",
   "metadata": {},
   "source": [
    "Once you have already created, you will see that your new dataset is ready ."
   ]
  },
  {
   "cell_type": "markdown",
   "metadata": {},
   "source": [
    "![](images/useful_images/dataset3.png)"
   ]
  },
  {
   "cell_type": "markdown",
   "metadata": {},
   "source": [
    "If you go to the IDE, you will see your new dataset in the **datasets_ws** ready to store all your data"
   ]
  },
  {
   "cell_type": "markdown",
   "metadata": {},
   "source": [
    "![](images/useful_images/dataset4.png)"
   ]
  },
  {
   "cell_type": "markdown",
   "metadata": {},
   "source": [
    "Ok, now should be interesting to add some data to your new dataset, we will use **rosbag** to do it, so open a new Shell and navigate to the dataset first."
   ]
  },
  {
   "cell_type": "code",
   "execution_count": null,
   "metadata": {},
   "outputs": [],
   "source": [
    "$ cd datasets_ws/joints_states_values/"
   ]
  },
  {
   "cell_type": "markdown",
   "metadata": {},
   "source": [
    "Then we will store all the information of a topic, in this case the topic called **/joint_states**, in order to do that run the following command in the Shell"
   ]
  },
  {
   "cell_type": "code",
   "execution_count": null,
   "metadata": {},
   "outputs": [],
   "source": [
    "$ rosbag record /joint_states"
   ]
  },
  {
   "cell_type": "markdown",
   "metadata": {},
   "source": [
    "This will record all the info of that topic, even if you move the robot again. "
   ]
  },
  {
   "cell_type": "markdown",
   "metadata": {},
   "source": [
    "you can move the robot again while the rosbag is recording"
   ]
  },
  {
   "cell_type": "markdown",
   "metadata": {},
   "source": [
    "Once you want to stop the recording just press Ctrl +c in the shell to stop it"
   ]
  },
  {
   "cell_type": "markdown",
   "metadata": {},
   "source": [
    "You can work with this information, for example let's see the info of the bag you have created, go to the Shell and run $ **rosbag info (the name of your bag)** you will have something similar to the next image."
   ]
  },
  {
   "cell_type": "markdown",
   "metadata": {},
   "source": [
    "![](images/rosject_images/rosbag.png)"
   ]
  },
  {
   "cell_type": "markdown",
   "metadata": {},
   "source": [
    "But, let's see how it looks like in the IDE"
   ]
  },
  {
   "cell_type": "markdown",
   "metadata": {},
   "source": [
    "![](images/rosject_images/rosbag2.png)"
   ]
  },
  {
   "cell_type": "markdown",
   "metadata": {},
   "source": [
    "as you can see there is a new file, with the date of creation, and if you open it you will see some information, but most of the information is in other format that cannot read, but you can work with it."
   ]
  },
  {
   "cell_type": "markdown",
   "metadata": {},
   "source": [
    "#### You can attach other datasets to this rosject"
   ]
  },
  {
   "cell_type": "markdown",
   "metadata": {},
   "source": [
    "If you created **datasets** in other rosjects, you can associate (attach) them with this rosject.\n",
    "\n",
    "1. Go to the Datasets and press `Attach`.\n",
    "2. Select the dataset you want to attach, on the `Dataset` field\n",
    "3. Indicate the folder inside the `datasets_ws` that you want to put the new dataset\n",
    "4. Press `Attach`. A new dataset will be created with that content, and the directory in the `datasets_ws` will be created."
   ]
  },
  {
   "cell_type": "markdown",
   "metadata": {},
   "source": [
    "![](images/attach_dataset.png)"
   ]
  },
  {
   "cell_type": "markdown",
   "metadata": {},
   "source": [
    "![](images/list_of_datasets.png)"
   ]
  },
  {
   "cell_type": "markdown",
   "metadata": {},
   "source": [
    "## 5. Creating the documentation"
   ]
  },
  {
   "cell_type": "markdown",
   "metadata": {},
   "source": [
    "In order of being organized all related to the documentation goes in the **notebook_ws**, here the notebooks that you will make in the jupyter notebook will be saved, also here the images that we will use in the documentation should be saved."
   ]
  },
  {
   "cell_type": "markdown",
   "metadata": {},
   "source": [
    "You should edit the **default notebook** or **create a new one**. Check Jupyter documentation to learn how.\n",
    "\n",
    "In this Live Class, we are going to upload the notebook of this Live Class. You can find the notebook files in [this tar file]()."
   ]
  },
  {
   "cell_type": "markdown",
   "metadata": {},
   "source": [
    "## 6. Save everything"
   ]
  },
  {
   "cell_type": "markdown",
   "metadata": {},
   "source": [
    "Now that you have your whole rosject ready, you must save it.\n",
    "\n",
    "If you press the `Save` icon, everything will be saved, including the datasets attached. \n",
    "\n",
    "This means that you will be able to share this rosject with anybody, and it will contain all the things you already used there, including, **documentation, simulation, code and datasets**.\n",
    "\n"
   ]
  },
  {
   "cell_type": "markdown",
   "metadata": {},
   "source": [
    "Now you are ready to **SHARE** your ROSject with anyone!"
   ]
  },
  {
   "cell_type": "markdown",
   "metadata": {},
   "source": [
    "# Mission  completed!!"
   ]
  },
  {
   "cell_type": "markdown",
   "metadata": {},
   "source": [
    "# If you liked this video, please support us!\n",
    "# Really... we need your support!!!!"
   ]
  },
  {
   "cell_type": "markdown",
   "metadata": {},
   "source": [
    "## How can you support us?"
   ]
  },
  {
   "cell_type": "markdown",
   "metadata": {},
   "source": [
    "### 1. Buy one ROS Developers T-shirt!"
   ]
  },
  {
   "cell_type": "markdown",
   "metadata": {},
   "source": [
    "![](images/logos/t-shirts.png)"
   ]
  },
  {
   "cell_type": "markdown",
   "metadata": {},
   "source": [
    "You can buy them at <a href=\"https://teespring.com/stores/ros-developers\">our Teespring area</a>"
   ]
  },
  {
   "cell_type": "markdown",
   "metadata": {},
   "source": [
    "### 2. Subscribe to our ROS online academy and become a Master of ROS Development"
   ]
  },
  {
   "cell_type": "markdown",
   "metadata": {},
   "source": [
    "Go to our online academy. There is no faster way and funnier to learn ROS because we use the same method we did here. \n",
    "\n",
    "##### We call the 30/70 method\n",
    "\n",
    "* **30% of the time learning theory**\n",
    "* **70% of the time practicing with simulated robots**"
   ]
  },
  {
   "cell_type": "markdown",
   "metadata": {},
   "source": [
    "![](images/logos/somecourses.png)"
   ]
  },
  {
   "cell_type": "markdown",
   "metadata": {},
   "source": [
    "\n",
    "### Check it out at http://robotignite.academy"
   ]
  },
  {
   "cell_type": "markdown",
   "metadata": {},
   "source": [
    "### 3. Give us a like in Youtube and subscribe to the channel"
   ]
  },
  {
   "cell_type": "markdown",
   "metadata": {},
   "source": [
    "* Go to <a href=\"https://www.youtube.com/channel/UCt6Lag-vv25fTX3e11mVY1Q\">our Youtube Channel</a> and subscribe (it is free!!!)\n",
    "* Give us a like to this video"
   ]
  },
  {
   "cell_type": "markdown",
   "metadata": {},
   "source": [
    "# KEEP PUSHING YOUR ROS LEARNING WITH PATIENCE AND GOOD HUMOUR!"
   ]
  },
  {
   "cell_type": "markdown",
   "metadata": {},
   "source": [
    "# Build the future, Become a ROS DEVELOPER\n"
   ]
  }
 ],
 "metadata": {
  "kernelspec": {
   "display_name": "Python 2",
   "language": "python",
   "name": "python2"
  },
  "language_info": {
   "codemirror_mode": {
    "name": "ipython",
    "version": 2
   },
   "file_extension": ".py",
   "mimetype": "text/x-python",
   "name": "python",
   "nbconvert_exporter": "python",
   "pygments_lexer": "ipython2",
   "version": "2.7.16"
  }
 },
 "nbformat": 4,
 "nbformat_minor": 1
}
